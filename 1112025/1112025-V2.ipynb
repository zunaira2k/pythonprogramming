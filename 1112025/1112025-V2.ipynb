{
 "cells": [
  {
   "cell_type": "code",
   "execution_count": 1,
   "id": "510e69e5",
   "metadata": {},
   "outputs": [],
   "source": [
    "import pandas as pd"
   ]
  },
  {
   "cell_type": "code",
   "execution_count": 5,
   "id": "4dfce98a",
   "metadata": {},
   "outputs": [
    {
     "name": "stdout",
     "output_type": "stream",
     "text": [
      "  PatientID  Age   Department  Bill-Amount\n",
      "0      P001   45   Cardiology        55000\n",
      "1      P002   36    Neurology        42000\n",
      "2      P003   29  Orhtopedics        28000\n",
      "3      P004   54   Cardiology        72000\n",
      "4      P005   40    Neurology        51000\n"
     ]
    }
   ],
   "source": [
    "df = pd.read_csv(\"C:/Users/Student/Desktop/zunaira/pythonprogramming/pythonprogramming/1112025/sampleData.csv\")\n",
    "print(df.head())\n"
   ]
  },
  {
   "cell_type": "code",
   "execution_count": 6,
   "id": "7c8fe00a",
   "metadata": {},
   "outputs": [
    {
     "name": "stdout",
     "output_type": "stream",
     "text": [
      "Department\n",
      "Cardiology     76750.00\n",
      "Dermatology    18000.00\n",
      "Neurology      52333.33\n",
      "Orhtopedics    34666.67\n",
      "Name: Bill-Amount, dtype: float64\n"
     ]
    }
   ],
   "source": [
    "dept_avg = df.groupby(\"Department\")[\"Bill-Amount\"].mean().round(2)\n",
    "print(dept_avg)"
   ]
  },
  {
   "cell_type": "code",
   "execution_count": 10,
   "id": "5a6d2b26",
   "metadata": {},
   "outputs": [
    {
     "name": "stdout",
     "output_type": "stream",
     "text": [
      "PatientID            P007\n",
      "Age                    60\n",
      "Department     Cardiology\n",
      "Bill-Amount         90000\n",
      "Name: 6, dtype: object\n"
     ]
    }
   ],
   "source": [
    "highest = df.loc[df[\"Bill-Amount\"].idxmax()]\n",
    "print(highest)"
   ]
  },
  {
   "cell_type": "code",
   "execution_count": 13,
   "id": "d1f29f0d",
   "metadata": {},
   "outputs": [
    {
     "name": "stdout",
     "output_type": "stream",
     "text": [
      "    Department  Bill-Amount\n",
      "0   Cardiology     76750.00\n",
      "1  Dermatology     18000.00\n",
      "2    Neurology     52333.33\n",
      "3  Orhtopedics     34666.67\n"
     ]
    }
   ],
   "source": [
    "\n",
    "summary = dept_avg.reset_index()\n",
    "print(summary)\n"
   ]
  },
  {
   "cell_type": "code",
   "execution_count": 21,
   "id": "7a5e7647",
   "metadata": {},
   "outputs": [],
   "source": [
    "with open(\"hospital_summary.csv\", \"w\", newline=\"\") as f:\n",
    "    summary.to_csv(f, index=False)\n",
    "    f.write(\"\\n\")  # blank line\n",
    "    f.write(f\"Highest Paying Patient,{highest['PatientID']},{highest['Bill-Amount']:.2f}\\n\")\n"
   ]
  }
 ],
 "metadata": {
  "kernelspec": {
   "display_name": "Python 3",
   "language": "python",
   "name": "python3"
  },
  "language_info": {
   "codemirror_mode": {
    "name": "ipython",
    "version": 3
   },
   "file_extension": ".py",
   "mimetype": "text/x-python",
   "name": "python",
   "nbconvert_exporter": "python",
   "pygments_lexer": "ipython3",
   "version": "3.11.9"
  }
 },
 "nbformat": 4,
 "nbformat_minor": 5
}
